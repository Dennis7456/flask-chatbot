{
 "cells": [
  {
   "cell_type": "code",
   "execution_count": 10,
   "id": "5e6d2923-94c0-4115-95ab-75f335572e34",
   "metadata": {},
   "outputs": [],
   "source": [
    "import os\n",
    "import pandas as pd"
   ]
  },
  {
   "cell_type": "code",
   "execution_count": 11,
   "id": "411a91a2-ac98-4127-8cd8-7d127ac9b901",
   "metadata": {},
   "outputs": [
    {
     "data": {
      "text/html": [
       "<div>\n",
       "<style scoped>\n",
       "    .dataframe tbody tr th:only-of-type {\n",
       "        vertical-align: middle;\n",
       "    }\n",
       "\n",
       "    .dataframe tbody tr th {\n",
       "        vertical-align: top;\n",
       "    }\n",
       "\n",
       "    .dataframe thead th {\n",
       "        text-align: right;\n",
       "    }\n",
       "</style>\n",
       "<table border=\"1\" class=\"dataframe\">\n",
       "  <thead>\n",
       "    <tr style=\"text-align: right;\">\n",
       "      <th></th>\n",
       "      <th>movieId</th>\n",
       "      <th>released</th>\n",
       "      <th>title</th>\n",
       "      <th>actors</th>\n",
       "      <th>director</th>\n",
       "      <th>genres</th>\n",
       "      <th>imdbRating</th>\n",
       "    </tr>\n",
       "  </thead>\n",
       "  <tbody>\n",
       "    <tr>\n",
       "      <th>0</th>\n",
       "      <td>1</td>\n",
       "      <td>1995-11-22</td>\n",
       "      <td>Toy Story</td>\n",
       "      <td>Jim Varney|Tim Allen|Tom Hanks|Don Rickles</td>\n",
       "      <td>John Lasseter</td>\n",
       "      <td>Adventure|Animation|Children|Comedy|Fantasy</td>\n",
       "      <td>8.3</td>\n",
       "    </tr>\n",
       "    <tr>\n",
       "      <th>1</th>\n",
       "      <td>2</td>\n",
       "      <td>1995-12-15</td>\n",
       "      <td>Jumanji</td>\n",
       "      <td>Robin Williams|Bradley Pierce|Kirsten Dunst|Jo...</td>\n",
       "      <td>Joe Johnston</td>\n",
       "      <td>Adventure|Children|Fantasy</td>\n",
       "      <td>6.9</td>\n",
       "    </tr>\n",
       "    <tr>\n",
       "      <th>2</th>\n",
       "      <td>3</td>\n",
       "      <td>1995-12-22</td>\n",
       "      <td>Grumpier Old Men</td>\n",
       "      <td>Walter Matthau|Ann-Margret|Jack Lemmon|Sophia ...</td>\n",
       "      <td>Howard Deutch</td>\n",
       "      <td>Comedy|Romance</td>\n",
       "      <td>6.6</td>\n",
       "    </tr>\n",
       "    <tr>\n",
       "      <th>3</th>\n",
       "      <td>4</td>\n",
       "      <td>1995-12-22</td>\n",
       "      <td>Waiting to Exhale</td>\n",
       "      <td>Whitney Houston|Lela Rochon|Angela Bassett|Lor...</td>\n",
       "      <td>Forest Whitaker</td>\n",
       "      <td>Romance|Drama|Comedy</td>\n",
       "      <td>5.6</td>\n",
       "    </tr>\n",
       "    <tr>\n",
       "      <th>4</th>\n",
       "      <td>5</td>\n",
       "      <td>1995-12-08</td>\n",
       "      <td>Father of the Bride Part II</td>\n",
       "      <td>Steve Martin|Kimberly Williams-Paisley|Diane K...</td>\n",
       "      <td>Charles Shyer</td>\n",
       "      <td>Comedy</td>\n",
       "      <td>5.9</td>\n",
       "    </tr>\n",
       "  </tbody>\n",
       "</table>\n",
       "</div>"
      ],
      "text/plain": [
       "   movieId    released                        title  \\\n",
       "0        1  1995-11-22                    Toy Story   \n",
       "1        2  1995-12-15                      Jumanji   \n",
       "2        3  1995-12-22             Grumpier Old Men   \n",
       "3        4  1995-12-22            Waiting to Exhale   \n",
       "4        5  1995-12-08  Father of the Bride Part II   \n",
       "\n",
       "                                              actors         director  \\\n",
       "0         Jim Varney|Tim Allen|Tom Hanks|Don Rickles    John Lasseter   \n",
       "1  Robin Williams|Bradley Pierce|Kirsten Dunst|Jo...     Joe Johnston   \n",
       "2  Walter Matthau|Ann-Margret|Jack Lemmon|Sophia ...    Howard Deutch   \n",
       "3  Whitney Houston|Lela Rochon|Angela Bassett|Lor...  Forest Whitaker   \n",
       "4  Steve Martin|Kimberly Williams-Paisley|Diane K...    Charles Shyer   \n",
       "\n",
       "                                        genres  imdbRating  \n",
       "0  Adventure|Animation|Children|Comedy|Fantasy         8.3  \n",
       "1                   Adventure|Children|Fantasy         6.9  \n",
       "2                               Comedy|Romance         6.6  \n",
       "3                         Romance|Drama|Comedy         5.6  \n",
       "4                                       Comedy         5.9  "
      ]
     },
     "execution_count": 11,
     "metadata": {},
     "output_type": "execute_result"
    }
   ],
   "source": [
    "df = pd.read_csv(\"https://raw.githubusercontent.com/tomasonjo/blog-datasets/main/movies/movies_small.csv\")\n",
    "df.head()"
   ]
  },
  {
   "cell_type": "code",
   "execution_count": 12,
   "id": "8478d4e1-80c3-4a0d-bde2-abf247c907b8",
   "metadata": {},
   "outputs": [],
   "source": []
  },
  {
   "cell_type": "code",
   "execution_count": 13,
   "id": "c1388985-91e4-4f59-983a-4aeb3cb24bec",
   "metadata": {},
   "outputs": [],
   "source": [
    "from langchain_community.graphs import Neo4jGraph"
   ]
  },
  {
   "cell_type": "code",
   "execution_count": 14,
   "id": "a550d905-0b1f-4869-97e5-b091abdb77ff",
   "metadata": {},
   "outputs": [],
   "source": [
    "graph = Neo4jGraph()"
   ]
  },
  {
   "cell_type": "code",
   "execution_count": 14,
   "id": "6abd8b1d-e7ef-4a6a-93d6-4a426c092104",
   "metadata": {},
   "outputs": [],
   "source": [
    "movies_query = \"\"\"\n",
    "LOAD CSV WITH HEADERS FROM 'https://raw.githubusercontent.com/tomasonjo/blog-datasets/main/movies/movies_small.csv' AS row\n",
    "MERGE (m:Movie {id:row.movieId})\n",
    "SET m.released = date(row.released),\n",
    "    m.title = row.title,\n",
    "    m.imdbRating = toFloat(row.imdbRating)\n",
    "FOREACH (director in split(row.director, '|') |\n",
    "    MERGE (p:Person {name: trim(director)})\n",
    "    MERGE (p)-[:DIRECTED]->(m))\n",
    "FOREACH (actor in split(row.actor, '|') |\n",
    "    MERGE (p:Person {name: trim(actor)})\n",
    "    MERGE (p)-[:ACTED_IN]->(m))\n",
    "FOREACH (genre in split(row.genres, '|') |\n",
    "    MERGE (g:Genre {name: trim(genre)})\n",
    "    MERGE (m)-[:IN_GENRE]->(g))\n",
    "\"\"\"\n",
    "graph.query(movies_query);"
   ]
  },
  {
   "cell_type": "code",
   "execution_count": 32,
   "id": "51e1db55-9d3e-40e5-9b54-35e8450858b7",
   "metadata": {},
   "outputs": [],
   "source": [
    "examples = [\n",
    "    {\n",
    "        \"question\": \"How many artists are there?\",\n",
    "        \"query\": \"MATCH (a:Person)-[:ACTED_IN]->(:Movie) RETURN count (DISTINCT a)\"\n",
    "    },\n",
    "    {\n",
    "    \"question\": \"Which actors played in the movie Casino?\",\n",
    "    \"query\": \"MATCH (m:Movie {{title: 'Casino'}})<-[:ACTED_IN]-(a) RETURN a.name\"\n",
    "    },\n",
    "    {\n",
    "        \"question\": \"How many movies has Tom Hanks acted in?\",\n",
    "        \"query\": \"MATCH (a:Person {{name: 'Tom Hanks'}})-[:ACTED_IN]->(m:Movie) RETURN count (m)\"\n",
    "    },\n",
    "    {\n",
    "    \"question\": \"List all the genres of the movie Schindler's List\",\n",
    "    \"query\": \"MATCH (m:Movie {{title: 'Schindler\\'s List'}})-[:IN_GENRE]->(g:Genre) RETURN g.name\"\n",
    "    },\n",
    "    {\n",
    "        \"question\": \"Which actors have worked in movies from both the comedy and action genres?\",\n",
    "        \"query\": \"MATCH (p:Person)-[:ACTED_IN]->(:Movie)-[:IN_GENRE]->(g1:Genre {{name: 'Comedy'}}) MATCH(p)-[:ACTED_IN]->(:Movie)-[:IN_GENRE]->(g2:Genre {{name: 'Action'}}) RETURN DISTINCT p\"\n",
    "    },\n",
    "    {\n",
    "        \"question\": \"Which directors have made movies with at least three different actors named 'John'?\",\n",
    "        \"query\": \"MATCH (p:Person)-[:DIRECTED]->(m:Movie)<-[:ACTED_IN]-(a:Person) WHERE a.name STARTS WITH 'John' WITH p, count (DISTINCT a) AS johnActorsCount WHERE johnActorsCount >= 3 RETURN p\"\n",
    "    }]"
   ]
  },
  {
   "cell_type": "code",
   "execution_count": 33,
   "id": "50a53bcb-4bd5-4795-a0ce-0361d8b19f3c",
   "metadata": {},
   "outputs": [],
   "source": [
    "from langchain_core.prompts import FewShotPromptTemplate, PromptTemplate"
   ]
  },
  {
   "cell_type": "code",
   "execution_count": 34,
   "id": "1fde6e99-1284-4427-879b-bba4f9110605",
   "metadata": {},
   "outputs": [],
   "source": [
    "example_prompt = PromptTemplate.from_template(\n",
    "    \"User input: {question}\\nCypher query: {query}\"\n",
    ")\n",
    "\n"
   ]
  },
  {
   "cell_type": "code",
   "execution_count": 35,
   "id": "fdb90e6b-19a6-4513-b7ae-123b347f294b",
   "metadata": {},
   "outputs": [],
   "source": [
    "prompt = FewShotPromptTemplate(\n",
    "    examples=examples[:5],\n",
    "    example_prompt=example_prompt,\n",
    "    prefix=\"You are a Neo4j expert. Given an input question, create a syntactically correct Cypher query to run.\\n\\nHere is the schema information.\",\n",
    "    suffix=\"User input: {question}\\nCypher query:\",\n",
    "    input_variables=[\"question\"])"
   ]
  },
  {
   "cell_type": "code",
   "execution_count": 36,
   "id": "0f01e3bd-7ad0-4ccb-904d-c699764cedf8",
   "metadata": {
    "scrolled": true
   },
   "outputs": [
    {
     "name": "stdout",
     "output_type": "stream",
     "text": [
      "You are a Neo4j expert. Given an input question, create a syntactically correct Cypher query to run.\n",
      "\n",
      "Here is the schema information.\n",
      "\n",
      "User input: How many artists are there?\n",
      "Cypher query: MATCH (a:Person)-[:ACTED_IN]->(:Movie) RETURN count (DISTINCT a)\n",
      "\n",
      "User input: Which actors played in the movie Casino?\n",
      "Cypher query: MATCH (m:Movie {title: 'Casino'})<-[:ACTED_IN]-(a) RETURN a.name\n",
      "\n",
      "User input: How many movies has Tom Hanks acted in?\n",
      "Cypher query: MATCH (a:Person {name: 'Tom Hanks'})-[:ACTED_IN]->(m:Movie) RETURN count (m)\n",
      "\n",
      "User input: List all the genres of the movie Schindler's List\n",
      "Cypher query: MATCH (m:Movie {title: 'Schindler's List'})-[:IN_GENRE]->(g:Genre) RETURN g.name\n",
      "\n",
      "User input: Which actors have worked in movies from both the comedy and action genres?\n",
      "Cypher query: MATCH (p:Person)-[:ACTED_IN]->(:Movie)-[:IN_GENRE]->(g1:Genre {name: 'Comedy'}) MATCH(p)-[:ACTED_IN]->(:Movie)-[:IN_GENRE]->(g2:Genre {name: 'Action'}) RETURN DISTINCT p\n",
      "\n",
      "User input: How many artists are there?\n",
      "Cypher query:\n"
     ]
    }
   ],
   "source": [
    "print(prompt.format(question=\"How many artists are there?\"))"
   ]
  },
  {
   "cell_type": "code",
   "execution_count": 53,
   "id": "c207ed1d-001c-4037-86cf-ddfd630e3047",
   "metadata": {},
   "outputs": [
    {
     "name": "stdout",
     "output_type": "stream",
     "text": [
      "/usr/bin/pip:6: DeprecationWarning: pkg_resources is deprecated as an API. See https://setuptools.pypa.io/en/latest/pkg_resources.html\n",
      "  from pkg_resources import load_entry_point\n",
      "Collecting langchain_openai\n",
      "  Downloading langchain_openai-0.1.6-py3-none-any.whl (34 kB)\n",
      "Requirement already satisfied: langchain-core<0.2.0,>=0.1.46 in /home/dennis/.local/lib/python3.8/site-packages (from langchain_openai) (0.1.46)\n",
      "Collecting openai<2.0.0,>=1.24.0\n",
      "  Downloading openai-1.28.1-py3-none-any.whl (320 kB)\n",
      "\u001b[K     |████████████████████████████████| 320 kB 609 kB/s eta 0:00:01\n",
      "\u001b[?25hCollecting tiktoken<1,>=0.5.2\n",
      "  Downloading tiktoken-0.6.0-cp38-cp38-manylinux_2_17_x86_64.manylinux2014_x86_64.whl (1.8 MB)\n",
      "\u001b[K     |████████████████████████████████| 1.8 MB 6.2 MB/s eta 0:00:01\n",
      "\u001b[?25hRequirement already satisfied: PyYAML>=5.3 in /usr/lib/python3/dist-packages (from langchain-core<0.2.0,>=0.1.46->langchain_openai) (5.3.1)\n",
      "Requirement already satisfied: jsonpatch<2.0,>=1.33 in /home/dennis/.local/lib/python3.8/site-packages (from langchain-core<0.2.0,>=0.1.46->langchain_openai) (1.33)\n",
      "Requirement already satisfied: langsmith<0.2.0,>=0.1.0 in /home/dennis/.local/lib/python3.8/site-packages (from langchain-core<0.2.0,>=0.1.46->langchain_openai) (0.1.52)\n",
      "Requirement already satisfied: packaging<24.0,>=23.2 in /home/dennis/.local/lib/python3.8/site-packages (from langchain-core<0.2.0,>=0.1.46->langchain_openai) (23.2)\n",
      "Requirement already satisfied: pydantic<3,>=1 in /home/dennis/.local/lib/python3.8/site-packages (from langchain-core<0.2.0,>=0.1.46->langchain_openai) (2.7.1)\n",
      "Requirement already satisfied: tenacity<9.0.0,>=8.1.0 in /home/dennis/.local/lib/python3.8/site-packages (from langchain-core<0.2.0,>=0.1.46->langchain_openai) (8.2.3)\n",
      "Requirement already satisfied: anyio<5,>=3.5.0 in /home/dennis/.local/lib/python3.8/site-packages (from openai<2.0.0,>=1.24.0->langchain_openai) (4.3.0)\n",
      "Collecting distro<2,>=1.7.0\n",
      "  Downloading distro-1.9.0-py3-none-any.whl (20 kB)\n",
      "Requirement already satisfied: httpx<1,>=0.23.0 in /home/dennis/.local/lib/python3.8/site-packages (from openai<2.0.0,>=1.24.0->langchain_openai) (0.27.0)\n",
      "Requirement already satisfied: sniffio in /home/dennis/.local/lib/python3.8/site-packages (from openai<2.0.0,>=1.24.0->langchain_openai) (1.3.1)\n",
      "Requirement already satisfied: tqdm>4 in /home/dennis/.local/lib/python3.8/site-packages (from openai<2.0.0,>=1.24.0->langchain_openai) (4.66.2)\n",
      "Requirement already satisfied: typing-extensions<5,>=4.7 in /home/dennis/.local/lib/python3.8/site-packages (from openai<2.0.0,>=1.24.0->langchain_openai) (4.11.0)\n",
      "Collecting regex>=2022.1.18\n",
      "  Downloading regex-2024.5.10-cp38-cp38-manylinux_2_17_x86_64.manylinux2014_x86_64.whl (777 kB)\n",
      "\u001b[K     |████████████████████████████████| 777 kB 19.6 MB/s eta 0:00:01\n",
      "\u001b[?25hRequirement already satisfied: requests>=2.26.0 in /home/dennis/.local/lib/python3.8/site-packages (from tiktoken<1,>=0.5.2->langchain_openai) (2.31.0)\n",
      "Requirement already satisfied: jsonpointer>=1.9 in /home/dennis/.local/lib/python3.8/site-packages (from jsonpatch<2.0,>=1.33->langchain-core<0.2.0,>=0.1.46->langchain_openai) (2.4)\n",
      "Requirement already satisfied: orjson<4.0.0,>=3.9.14 in /home/dennis/.local/lib/python3.8/site-packages (from langsmith<0.2.0,>=0.1.0->langchain-core<0.2.0,>=0.1.46->langchain_openai) (3.10.1)\n",
      "Requirement already satisfied: annotated-types>=0.4.0 in /home/dennis/.local/lib/python3.8/site-packages (from pydantic<3,>=1->langchain-core<0.2.0,>=0.1.46->langchain_openai) (0.6.0)\n",
      "Requirement already satisfied: pydantic-core==2.18.2 in /home/dennis/.local/lib/python3.8/site-packages (from pydantic<3,>=1->langchain-core<0.2.0,>=0.1.46->langchain_openai) (2.18.2)\n",
      "Requirement already satisfied: idna>=2.8 in /usr/lib/python3/dist-packages (from anyio<5,>=3.5.0->openai<2.0.0,>=1.24.0->langchain_openai) (2.8)\n",
      "Requirement already satisfied: exceptiongroup>=1.0.2; python_version < \"3.11\" in /home/dennis/.local/lib/python3.8/site-packages (from anyio<5,>=3.5.0->openai<2.0.0,>=1.24.0->langchain_openai) (1.2.1)\n",
      "Requirement already satisfied: certifi in /usr/lib/python3/dist-packages (from httpx<1,>=0.23.0->openai<2.0.0,>=1.24.0->langchain_openai) (2019.11.28)\n",
      "Requirement already satisfied: httpcore==1.* in /home/dennis/.local/lib/python3.8/site-packages (from httpx<1,>=0.23.0->openai<2.0.0,>=1.24.0->langchain_openai) (1.0.5)\n",
      "Requirement already satisfied: charset-normalizer<4,>=2 in /home/dennis/.local/lib/python3.8/site-packages (from requests>=2.26.0->tiktoken<1,>=0.5.2->langchain_openai) (3.3.2)\n",
      "Requirement already satisfied: urllib3<3,>=1.21.1 in /home/dennis/.local/lib/python3.8/site-packages (from requests>=2.26.0->tiktoken<1,>=0.5.2->langchain_openai) (2.2.1)\n",
      "Requirement already satisfied: h11<0.15,>=0.13 in /home/dennis/.local/lib/python3.8/site-packages (from httpcore==1.*->httpx<1,>=0.23.0->openai<2.0.0,>=1.24.0->langchain_openai) (0.14.0)\n",
      "Installing collected packages: distro, openai, regex, tiktoken, langchain-openai\n",
      "Successfully installed distro-1.9.0 langchain-openai-0.1.6 openai-1.28.1 regex-2024.5.10 tiktoken-0.6.0\n"
     ]
    }
   ],
   "source": [
    "!pip install langchain_openai"
   ]
  },
  {
   "cell_type": "code",
   "execution_count": 12,
   "id": "ba3987e3-3ead-4838-a542-9015d46c7b80",
   "metadata": {},
   "outputs": [
    {
     "name": "stdout",
     "output_type": "stream",
     "text": [
      "Requirement already satisfied: langchain_cohere in /home/dennis/.local/lib/python3.8/site-packages (0.1.4)\n",
      "Requirement already satisfied: cohere<6.0,>=5.3 in /home/dennis/.local/lib/python3.8/site-packages (from langchain_cohere) (5.4.0)\n",
      "Requirement already satisfied: langchain-core<0.2.0,>=0.1.42 in /home/dennis/.local/lib/python3.8/site-packages (from langchain_cohere) (0.1.46)\n",
      "Requirement already satisfied: fastavro<2.0.0,>=1.9.4 in /home/dennis/.local/lib/python3.8/site-packages (from cohere<6.0,>=5.3->langchain_cohere) (1.9.4)\n",
      "Requirement already satisfied: boto3<2.0.0,>=1.34.0 in /home/dennis/.local/lib/python3.8/site-packages (from cohere<6.0,>=5.3->langchain_cohere) (1.34.104)\n",
      "Requirement already satisfied: requests<3.0.0,>=2.0.0 in /home/dennis/.local/lib/python3.8/site-packages (from cohere<6.0,>=5.3->langchain_cohere) (2.31.0)\n",
      "Requirement already satisfied: httpx-sse<0.5.0,>=0.4.0 in /home/dennis/.local/lib/python3.8/site-packages (from cohere<6.0,>=5.3->langchain_cohere) (0.4.0)\n",
      "Requirement already satisfied: types-requests<3.0.0,>=2.0.0 in /home/dennis/.local/lib/python3.8/site-packages (from cohere<6.0,>=5.3->langchain_cohere) (2.31.0.20240406)\n",
      "Requirement already satisfied: pydantic>=1.9.2 in /home/dennis/.local/lib/python3.8/site-packages (from cohere<6.0,>=5.3->langchain_cohere) (2.7.1)\n",
      "Requirement already satisfied: tokenizers<0.20,>=0.19 in /home/dennis/.local/lib/python3.8/site-packages (from cohere<6.0,>=5.3->langchain_cohere) (0.19.1)\n",
      "Requirement already satisfied: httpx>=0.21.2 in /home/dennis/.local/lib/python3.8/site-packages (from cohere<6.0,>=5.3->langchain_cohere) (0.27.0)\n",
      "Requirement already satisfied: typing_extensions>=4.0.0 in /home/dennis/.local/lib/python3.8/site-packages (from cohere<6.0,>=5.3->langchain_cohere) (4.11.0)\n",
      "Requirement already satisfied: PyYAML>=5.3 in /home/dennis/.local/lib/python3.8/site-packages (from langchain-core<0.2.0,>=0.1.42->langchain_cohere) (6.0.1)\n",
      "Requirement already satisfied: packaging<24.0,>=23.2 in /home/dennis/.local/lib/python3.8/site-packages (from langchain-core<0.2.0,>=0.1.42->langchain_cohere) (23.2)\n",
      "Requirement already satisfied: langsmith<0.2.0,>=0.1.0 in /home/dennis/.local/lib/python3.8/site-packages (from langchain-core<0.2.0,>=0.1.42->langchain_cohere) (0.1.52)\n",
      "Requirement already satisfied: jsonpatch<2.0,>=1.33 in /home/dennis/.local/lib/python3.8/site-packages (from langchain-core<0.2.0,>=0.1.42->langchain_cohere) (1.33)\n",
      "Requirement already satisfied: tenacity<9.0.0,>=8.1.0 in /home/dennis/.local/lib/python3.8/site-packages (from langchain-core<0.2.0,>=0.1.42->langchain_cohere) (8.2.3)\n",
      "Requirement already satisfied: s3transfer<0.11.0,>=0.10.0 in /home/dennis/.local/lib/python3.8/site-packages (from boto3<2.0.0,>=1.34.0->cohere<6.0,>=5.3->langchain_cohere) (0.10.1)\n",
      "Requirement already satisfied: botocore<1.35.0,>=1.34.104 in /home/dennis/.local/lib/python3.8/site-packages (from boto3<2.0.0,>=1.34.0->cohere<6.0,>=5.3->langchain_cohere) (1.34.104)\n",
      "Requirement already satisfied: jmespath<2.0.0,>=0.7.1 in /home/dennis/.local/lib/python3.8/site-packages (from boto3<2.0.0,>=1.34.0->cohere<6.0,>=5.3->langchain_cohere) (1.0.1)\n",
      "Requirement already satisfied: idna<4,>=2.5 in /usr/lib/python3/dist-packages (from requests<3.0.0,>=2.0.0->cohere<6.0,>=5.3->langchain_cohere) (2.8)\n",
      "Requirement already satisfied: urllib3<3,>=1.21.1 in /home/dennis/.local/lib/python3.8/site-packages (from requests<3.0.0,>=2.0.0->cohere<6.0,>=5.3->langchain_cohere) (2.2.1)\n",
      "Requirement already satisfied: certifi>=2017.4.17 in /usr/lib/python3/dist-packages (from requests<3.0.0,>=2.0.0->cohere<6.0,>=5.3->langchain_cohere) (2019.11.28)\n",
      "Requirement already satisfied: charset-normalizer<4,>=2 in /home/dennis/.local/lib/python3.8/site-packages (from requests<3.0.0,>=2.0.0->cohere<6.0,>=5.3->langchain_cohere) (3.3.2)\n",
      "Requirement already satisfied: annotated-types>=0.4.0 in /home/dennis/.local/lib/python3.8/site-packages (from pydantic>=1.9.2->cohere<6.0,>=5.3->langchain_cohere) (0.6.0)\n",
      "Requirement already satisfied: pydantic-core==2.18.2 in /home/dennis/.local/lib/python3.8/site-packages (from pydantic>=1.9.2->cohere<6.0,>=5.3->langchain_cohere) (2.18.2)\n",
      "Requirement already satisfied: huggingface-hub<1.0,>=0.16.4 in /home/dennis/.local/lib/python3.8/site-packages (from tokenizers<0.20,>=0.19->cohere<6.0,>=5.3->langchain_cohere) (0.22.2)\n",
      "Requirement already satisfied: anyio in /home/dennis/.local/lib/python3.8/site-packages (from httpx>=0.21.2->cohere<6.0,>=5.3->langchain_cohere) (4.3.0)\n",
      "Requirement already satisfied: sniffio in /home/dennis/.local/lib/python3.8/site-packages (from httpx>=0.21.2->cohere<6.0,>=5.3->langchain_cohere) (1.3.1)\n",
      "Requirement already satisfied: httpcore==1.* in /home/dennis/.local/lib/python3.8/site-packages (from httpx>=0.21.2->cohere<6.0,>=5.3->langchain_cohere) (1.0.5)\n",
      "Requirement already satisfied: orjson<4.0.0,>=3.9.14 in /home/dennis/.local/lib/python3.8/site-packages (from langsmith<0.2.0,>=0.1.0->langchain-core<0.2.0,>=0.1.42->langchain_cohere) (3.10.1)\n",
      "Requirement already satisfied: jsonpointer>=1.9 in /home/dennis/.local/lib/python3.8/site-packages (from jsonpatch<2.0,>=1.33->langchain-core<0.2.0,>=0.1.42->langchain_cohere) (2.4)\n",
      "Requirement already satisfied: python-dateutil<3.0.0,>=2.1 in /home/dennis/.local/lib/python3.8/site-packages (from botocore<1.35.0,>=1.34.104->boto3<2.0.0,>=1.34.0->cohere<6.0,>=5.3->langchain_cohere) (2.9.0.post0)\n",
      "Requirement already satisfied: fsspec>=2023.5.0 in /home/dennis/.local/lib/python3.8/site-packages (from huggingface-hub<1.0,>=0.16.4->tokenizers<0.20,>=0.19->cohere<6.0,>=5.3->langchain_cohere) (2024.3.1)\n",
      "Requirement already satisfied: filelock in /home/dennis/.local/lib/python3.8/site-packages (from huggingface-hub<1.0,>=0.16.4->tokenizers<0.20,>=0.19->cohere<6.0,>=5.3->langchain_cohere) (3.14.0)\n",
      "Requirement already satisfied: tqdm>=4.42.1 in /home/dennis/.local/lib/python3.8/site-packages (from huggingface-hub<1.0,>=0.16.4->tokenizers<0.20,>=0.19->cohere<6.0,>=5.3->langchain_cohere) (4.66.2)\n",
      "Requirement already satisfied: exceptiongroup>=1.0.2; python_version < \"3.11\" in /home/dennis/.local/lib/python3.8/site-packages (from anyio->httpx>=0.21.2->cohere<6.0,>=5.3->langchain_cohere) (1.2.1)\n",
      "Requirement already satisfied: h11<0.15,>=0.13 in /home/dennis/.local/lib/python3.8/site-packages (from httpcore==1.*->httpx>=0.21.2->cohere<6.0,>=5.3->langchain_cohere) (0.14.0)\n",
      "Requirement already satisfied: six>=1.5 in /usr/lib/python3/dist-packages (from python-dateutil<3.0.0,>=2.1->botocore<1.35.0,>=1.34.104->boto3<2.0.0,>=1.34.0->cohere<6.0,>=5.3->langchain_cohere) (1.14.0)\n",
      "Note: you may need to restart the kernel to use updated packages.\n"
     ]
    }
   ],
   "source": [
    "pip install langchain_cohere"
   ]
  },
  {
   "cell_type": "code",
   "execution_count": 37,
   "id": "697b3161-d27d-4120-b720-7be347fbb162",
   "metadata": {},
   "outputs": [],
   "source": [
    "from langchain_community.vectorstores import Neo4jVector\n",
    "from langchain_core.example_selectors import SemanticSimilarityExampleSelector\n",
    "from langchain_openai import OpenAIEmbeddings\n",
    "from langchain_cohere import CohereEmbeddings"
   ]
  },
  {
   "cell_type": "code",
   "execution_count": 38,
   "id": "3604b428-9f8d-4613-88fb-8242e2dfe811",
   "metadata": {},
   "outputs": [],
   "source": [
    "# example_selector = SemanticSimilarityExampleSelector.from_examples(\n",
    "#     examples,\n",
    "#     OpenAIEmbeddings(),\n",
    "#     Neo4jVector,\n",
    "#     k=5,\n",
    "#     input_keys=[\"question\"],\n",
    "# )\n",
    "\n",
    "example_selector = SemanticSimilarityExampleSelector.from_examples(\n",
    "    examples,\n",
    "    CohereEmbeddings(),\n",
    "    Neo4jVector,\n",
    "    k=5,\n",
    "    input_keys=[\"question\"],\n",
    ")"
   ]
  },
  {
   "cell_type": "code",
   "execution_count": 39,
   "id": "a6ca9da5-0660-48fa-823e-4f8d26d7804d",
   "metadata": {},
   "outputs": [
    {
     "data": {
      "text/plain": [
       "[{'query': 'MATCH (a:Person)-[:ACTED_IN]->(:Movie) RETURN count (DISTINCT a)',\n",
       "  'question': 'How many artists are there?'},\n",
       " {'query': \"MATCH (p:Person)-[:DIRECTED]->(m:Movie)<-[:ACTED_IN]-(a:Person) WHERE a.name STARTS WITH 'John' WITH p, count (DISTINCT a) AS johnActorsCount WHERE johnActorsCount >= 3 RETURN p\",\n",
       "  'question': \"Which directors have made movies with at least three different actors named 'John'?\"},\n",
       " {'query': \"MATCH (p:Person)-[:ACTED_IN]->(:Movie)-[:IN_GENRE]->(g1:Genre {{name: 'Comedy'}}) MATCH(p)-[:ACTED_IN]->(:Movie)-[:IN_GENRE]->(g2:Genre {{name: 'Action'}}) RETURN DISTINCT p\",\n",
       "  'question': 'Which actors have worked in movies from both the comedy and action genres?'},\n",
       " {'query': \"MATCH (a:Person {{name: 'Tom Hanks'}})-[:ACTED_IN]->(m:Movie) RETURN count (m)\",\n",
       "  'question': 'How many movies has Tom Hanks acted in?'},\n",
       " {'query': \"MATCH (m:Movie {{title: 'Schindler's List'}})-[:IN_GENRE]->(g:Genre) RETURN g.name\",\n",
       "  'question': \"List all the genres of the movie Schindler's List\"}]"
      ]
     },
     "execution_count": 39,
     "metadata": {},
     "output_type": "execute_result"
    }
   ],
   "source": [
    "example_selector.select_examples({\"question\":\"How many artists are there?\"})"
   ]
  },
  {
   "cell_type": "code",
   "execution_count": 54,
   "id": "67a0fa02-3710-43c2-8ffa-214e2194a8ae",
   "metadata": {},
   "outputs": [],
   "source": [
    "prompt = FewShotPromptTemplate(\n",
    "    example_selector=example_selector,\n",
    "    example_prompt=example_prompt,\n",
    "    prefix=\"You are a Neo4j expert. Given an input question, create a syntactically correct Cypher query to run.\\n\\nHere is the schema information.\",\n",
    "    suffix=\"User input: {question}\\nCypher query:\",\n",
    "    input_variables=[\"question\"]\n",
    ")"
   ]
  },
  {
   "cell_type": "code",
   "execution_count": 55,
   "id": "3142a0f8-a6b4-48c5-9127-d4b8ccf3960f",
   "metadata": {},
   "outputs": [
    {
     "name": "stdout",
     "output_type": "stream",
     "text": [
      "You are a Neo4j expert. Given an input question, create a syntactically correct Cypher query to run.\n",
      "\n",
      "Here is the schema information.\n",
      "\n",
      "User input: How many artists are there?\n",
      "Cypher query: MATCH (a:Person)-[:ACTED_IN]->(:Movie) RETURN count (DISTINCT a)\n",
      "\n",
      "User input: Which directors have made movies with at least three different actors named 'John'?\n",
      "Cypher query: MATCH (p:Person)-[:DIRECTED]->(m:Movie)<-[:ACTED_IN]-(a:Person) WHERE a.name STARTS WITH 'John' WITH p, count (DISTINCT a) AS johnActorsCount WHERE johnActorsCount >= 3 RETURN p\n",
      "\n",
      "User input: Which actors have worked in movies from both the comedy and action genres?\n",
      "Cypher query: MATCH (p:Person)-[:ACTED_IN]->(:Movie)-[:IN_GENRE]->(g1:Genre {name: 'Comedy'}) MATCH(p)-[:ACTED_IN]->(:Movie)-[:IN_GENRE]->(g2:Genre {name: 'Action'}) RETURN DISTINCT p\n",
      "\n",
      "User input: List all the genres of the movie Schindler's List\n",
      "Cypher query: MATCH (m:Movie {title: 'Schindler's List'})-[:IN_GENRE]->(g:Genre) RETURN g.name\n",
      "\n",
      "User input: How many movies has Tom Hanks acted in?\n",
      "Cypher query: MATCH (a:Person {name: 'Tom Hanks'})-[:ACTED_IN]->(m:Movie) RETURN count (m)\n",
      "\n",
      "User input: how many artists are there?\n",
      "Cypher query:\n"
     ]
    }
   ],
   "source": [
    "print(prompt.format(question=\"how many artists are there?\"))"
   ]
  },
  {
   "cell_type": "code",
   "execution_count": 56,
   "id": "e7eaafb2-482f-47bd-9e37-d949e8b9aa4e",
   "metadata": {},
   "outputs": [
    {
     "name": "stdout",
     "output_type": "stream",
     "text": [
      "You are a Neo4j expert. Given an input question, create a syntactically correct Cypher query to run.\n",
      "\n",
      "Here is the schema information.\n",
      "\n",
      "User input: Which directors have made movies with at least three different actors named 'John'?\n",
      "Cypher query: MATCH (p:Person)-[:DIRECTED]->(m:Movie)<-[:ACTED_IN]-(a:Person) WHERE a.name STARTS WITH 'John' WITH p, count (DISTINCT a) AS johnActorsCount WHERE johnActorsCount >= 3 RETURN p\n",
      "\n",
      "User input: How many artists are there?\n",
      "Cypher query: MATCH (a:Person)-[:ACTED_IN]->(:Movie) RETURN count (DISTINCT a)\n",
      "\n",
      "User input: How many movies has Tom Hanks acted in?\n",
      "Cypher query: MATCH (a:Person {name: 'Tom Hanks'})-[:ACTED_IN]->(m:Movie) RETURN count (m)\n",
      "\n",
      "User input: Which actors have worked in movies from both the comedy and action genres?\n",
      "Cypher query: MATCH (p:Person)-[:ACTED_IN]->(:Movie)-[:IN_GENRE]->(g1:Genre {name: 'Comedy'}) MATCH(p)-[:ACTED_IN]->(:Movie)-[:IN_GENRE]->(g2:Genre {name: 'Action'}) RETURN DISTINCT p\n",
      "\n",
      "User input: Which actors played in the movie Casino?\n",
      "Cypher query: MATCH (m:Movie {title: 'Casino'})<-[:ACTED_IN]-(a) RETURN a.name\n",
      "\n",
      "User input: how many directors are there?\n",
      "Cypher query:\n"
     ]
    }
   ],
   "source": [
    "print(prompt.format(question=\"how many directors are there?\"))"
   ]
  },
  {
   "cell_type": "code",
   "execution_count": 57,
   "id": "3af6cba6-c48a-4a5b-bd2b-38f4af830a88",
   "metadata": {},
   "outputs": [],
   "source": [
    "from langchain.chains import GraphCypherQAChain"
   ]
  },
  {
   "cell_type": "code",
   "execution_count": 58,
   "id": "a725a8d7-e81e-47a4-8da8-c91a1192f97b",
   "metadata": {},
   "outputs": [],
   "source": [
    "from langchain_community.llms import Ollama"
   ]
  },
  {
   "cell_type": "code",
   "execution_count": null,
   "id": "41d66d88-ed6c-4dea-a22d-ab4fd53e88e1",
   "metadata": {},
   "outputs": [
    {
     "name": "stdout",
     "output_type": "stream",
     "text": [
      "\n",
      "\n",
      "\u001b[1m> Entering new GraphCypherQAChain chain...\u001b[0m\n"
     ]
    }
   ],
   "source": [
    "llm = Ollama(model=\"llama2\")\n",
    "# llm = Ollama(model=\"codellama\")\n",
    "\n",
    "chain = GraphCypherQAChain.from_llm(\n",
    "    graph=graph, llm=llm, cypher_prompt=prompt, verbose=True\n",
    ")\n",
    "\n",
    "chain.invoke(\"How many actors are in the graph?\")"
   ]
  },
  {
   "cell_type": "code",
   "execution_count": 63,
   "id": "f887542f-9675-465d-b8ca-3520019384ba",
   "metadata": {},
   "outputs": [
    {
     "name": "stdout",
     "output_type": "stream",
     "text": [
      "Node properties are the following:\n",
      "Bot {name: STRING},Personality {name: STRING},Trait {name: STRING, description: STRING, type: STRING, definition: STRING},PhysicalAppearance {name: STRING},Skills {name: STRING},Quote {name: STRING},Item {name: STRING, description: STRING},Hobby {name: STRING},Residence {name: STRING},Question {text: STRING},Answer {text: STRING},Movie {id: STRING, released: DATE, title: STRING, imdbRating: FLOAT},Person {name: STRING}\n",
      "Relationship properties are the following:\n",
      "HAS_SKILL {keywords: LIST, proficiency_level: STRING, experience_level: STRING, training: STRING, specialization: STRING, interest_level: STRING}\n",
      "The relationships are the following:\n",
      "(:Bot)-[:HAS_SKILL]->(:Trait),(:Bot)-[:HAS_SKILL]->(:Item),(:Bot)-[:SAID]->(:Item),(:Bot)-[:LIVES_IN]->(:Item),(:Bot)-[:ANSWERS]->(:Answer),(:Bot)-[:ASKS]->(:Question),(:Personality)-[:HAS_TRAIT]->(:Trait),(:PhysicalAppearance)-[:HAS_TRAIT]->(:Trait),(:Skills)-[:HAS_TRAIT]->(:Trait),(:Skills)-[:HAS_SKILL]->(:Trait),(:Quote)-[:HAS_QUOTE]->(:Item),(:Hobby)-[:HAS_HOBBY]->(:Item),(:Residence)-[:BELONGS_TO]->(:Item),(:Question)-[:HAS_ANSWER]->(:Answer),(:Person)-[:DIRECTED]->(:Movie)\n"
     ]
    }
   ],
   "source": [
    "# Filtering graph schema\n",
    "chain = GraphCypherQAChain.from_llm(\n",
    "    graph=graph, llm=llm, exclude_types=[\"Genre\"], verbose=True\n",
    ")\n",
    "print(chain.graph_schema)"
   ]
  },
  {
   "cell_type": "code",
   "execution_count": null,
   "id": "a78133cc-8869-40f6-9d54-e6798e5d3f1a",
   "metadata": {},
   "outputs": [],
   "source": []
  }
 ],
 "metadata": {
  "kernelspec": {
   "display_name": "Python 3 (ipykernel)",
   "language": "python",
   "name": "python3"
  },
  "language_info": {
   "codemirror_mode": {
    "name": "ipython",
    "version": 3
   },
   "file_extension": ".py",
   "mimetype": "text/x-python",
   "name": "python",
   "nbconvert_exporter": "python",
   "pygments_lexer": "ipython3",
   "version": "3.8.10"
  }
 },
 "nbformat": 4,
 "nbformat_minor": 5
}
