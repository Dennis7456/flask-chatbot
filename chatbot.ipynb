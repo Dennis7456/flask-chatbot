{
 "cells": [
  {
   "cell_type": "code",
   "execution_count": 2,
   "id": "d693e45e-bb4a-4211-9f35-53544bbd0cd7",
   "metadata": {},
   "outputs": [],
   "source": [
    "import os\n",
    "import pandas as pd"
   ]
  },
  {
   "cell_type": "code",
   "execution_count": 3,
   "id": "a28f9dbd-9a65-42dd-831c-99ee0801024e",
   "metadata": {},
   "outputs": [
    {
     "data": {
      "text/html": [
       "<div>\n",
       "<style scoped>\n",
       "    .dataframe tbody tr th:only-of-type {\n",
       "        vertical-align: middle;\n",
       "    }\n",
       "\n",
       "    .dataframe tbody tr th {\n",
       "        vertical-align: top;\n",
       "    }\n",
       "\n",
       "    .dataframe thead th {\n",
       "        text-align: right;\n",
       "    }\n",
       "</style>\n",
       "<table border=\"1\" class=\"dataframe\">\n",
       "  <thead>\n",
       "    <tr style=\"text-align: right;\">\n",
       "      <th></th>\n",
       "      <th>conversation_id</th>\n",
       "      <th>question</th>\n",
       "      <th>response</th>\n",
       "    </tr>\n",
       "  </thead>\n",
       "  <tbody>\n",
       "    <tr>\n",
       "      <th>0</th>\n",
       "      <td>1</td>\n",
       "      <td>Hello</td>\n",
       "      <td>Hi, am Loki. How can I help you today?</td>\n",
       "    </tr>\n",
       "    <tr>\n",
       "      <th>1</th>\n",
       "      <td>2</td>\n",
       "      <td>Hey</td>\n",
       "      <td>Hi, am Loki. How can I help you today?</td>\n",
       "    </tr>\n",
       "    <tr>\n",
       "      <th>2</th>\n",
       "      <td>2</td>\n",
       "      <td>Hi</td>\n",
       "      <td>Hi, am Loki. How can I help you today?</td>\n",
       "    </tr>\n",
       "    <tr>\n",
       "      <th>3</th>\n",
       "      <td>3</td>\n",
       "      <td>What's your name?</td>\n",
       "      <td>My name is Loki, your helpful Kenyan travel as...</td>\n",
       "    </tr>\n",
       "    <tr>\n",
       "      <th>4</th>\n",
       "      <td>4</td>\n",
       "      <td>Can you tell me about yourself?</td>\n",
       "      <td>Of course! I'm Loki, a Kenyan bot specializing...</td>\n",
       "    </tr>\n",
       "  </tbody>\n",
       "</table>\n",
       "</div>"
      ],
      "text/plain": [
       "   conversation_id                         question  \\\n",
       "0                1                            Hello   \n",
       "1                2                              Hey   \n",
       "2                2                               Hi   \n",
       "3                3                What's your name?   \n",
       "4                4  Can you tell me about yourself?   \n",
       "\n",
       "                                            response  \n",
       "0             Hi, am Loki. How can I help you today?  \n",
       "1             Hi, am Loki. How can I help you today?  \n",
       "2             Hi, am Loki. How can I help you today?  \n",
       "3  My name is Loki, your helpful Kenyan travel as...  \n",
       "4  Of course! I'm Loki, a Kenyan bot specializing...  "
      ]
     },
     "execution_count": 3,
     "metadata": {},
     "output_type": "execute_result"
    }
   ],
   "source": [
    "df = pd.read_csv(\"chatbot-responses.csv\")\n",
    "df.head()"
   ]
  },
  {
   "cell_type": "code",
   "execution_count": 4,
   "id": "dde0c9e5-4a83-41f4-aeb3-c15ea80257e9",
   "metadata": {},
   "outputs": [],
   "source": [
   ]
  },
  {
   "cell_type": "code",
   "execution_count": 5,
   "id": "50f87683-35b3-41a1-a434-05ddc291e009",
   "metadata": {},
   "outputs": [],
   "source": [
    "from langchain_community.graphs import Neo4jGraph"
   ]
  },
  {
   "cell_type": "code",
   "execution_count": 6,
   "id": "4e6c5bf7-7834-447c-b012-5486a65af195",
   "metadata": {},
   "outputs": [],
   "source": [
    "graph = Neo4jGraph()"
   ]
  },
  {
   "cell_type": "code",
   "execution_count": 9,
   "id": "130bc958-354f-4697-95c4-2b939e7000c5",
   "metadata": {},
   "outputs": [
    {
     "name": "stdout",
     "output_type": "stream",
     "text": [
      "Usage: neo4j { console | start | stop | restart | status | version }\n"
     ]
    }
   ],
   "source": [
    "!neo4j config --database=neo4j set dbms.security.allow_csv_import_from_file_urls=true"
   ]
  },
  {
   "cell_type": "code",
   "execution_count": null,
   "id": "8f26029b-7d36-4686-b8c3-c69e9a4b2ad3",
   "metadata": {},
   "outputs": [],
   "source": [
    "conversation_query = \"\"\"\n",
    "LOAD CSV WITH HEADERS FROM 'http://0.0.0.0:8000/chatbot-responses.csv' AS row\n",
    "MERGE (m:Movie {id:row.movieId}\n",
    "SET m.released = date(row.released\n",
    ")\n",
    "\"\"\"\n",
    "graph.query(conversation_query);"
   ]
  },
  {
   "cell_type": "code",
   "execution_count": null,
   "id": "c02f619f-41d8-4b2a-8640-61e0c5ec660f",
   "metadata": {},
   "outputs": [],
   "source": [
    "graph.refresh_schema(conversation_query)\n",
    "print(graph.schema)"
   ]
  },
  {
   "cell_type": "code",
   "execution_count": null,
   "id": "72065fcd-7f1a-4dd0-aa21-8b5af09da3f8",
   "metadata": {},
   "outputs": [],
   "source": []
  }
 ],
 "metadata": {
  "kernelspec": {
   "display_name": "Python 3 (ipykernel)",
   "language": "python",
   "name": "python3"
  },
  "language_info": {
   "codemirror_mode": {
    "name": "ipython",
    "version": 3
   },
   "file_extension": ".py",
   "mimetype": "text/x-python",
   "name": "python",
   "nbconvert_exporter": "python",
   "pygments_lexer": "ipython3",
   "version": "3.8.10"
  }
 },
 "nbformat": 4,
 "nbformat_minor": 5
}
